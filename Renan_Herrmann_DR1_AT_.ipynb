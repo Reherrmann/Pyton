{
  "nbformat": 4,
  "nbformat_minor": 0,
  "metadata": {
    "colab": {
      "name": "Renan_Herrmann_DR1_AT..ipynb",
      "provenance": [],
      "collapsed_sections": []
    },
    "kernelspec": {
      "name": "python3",
      "display_name": "Python 3"
    },
    "language_info": {
      "name": "python"
    }
  },
  "cells": [
    {
      "cell_type": "code",
      "source": [
        "#Questão 3 \n",
        "\n",
        "from numpy import e\n",
        "\n",
        "def diagnostico_auxilio(renda_familiar, num_integrantes):\n",
        "  sal_min = 1045\n",
        "  max_renda_familiar = 3 * sal_min\n",
        "  max_renda_por_pessoa = sal_min / 2\n",
        "\n",
        "  renda_por_pessoa = round(renda_familiar / num_integrantes, 2)\n",
        "\n",
        "  diagnostico = f\"a renda familiar totao de R$ {renda_familiar}, \"  \n",
        "\n",
        "  if renda_familiar <= max_renda_familiar:\n",
        "   diagnostico += f\"é inferior ou igual \"\n",
        "  else:\n",
        "    diagnostico += f\"É superior \"\n",
        "\n",
        "  diagnostico += f\"a R$ {max_renda_familiar}.\\n\"\n",
        "\n",
        "  #########\n",
        "\n",
        "  diagnostico += f\"a Renda mensal por pessoa é de R$ {renda_por_pessoa}, \"\n",
        "\n",
        "  if renda_por_pessoa <= max_renda_por_pessoa:\n",
        "    diagnostico += f\"inferior ou igual \"\n",
        "  else:\n",
        "    diagnostico += f\"Superior a \"\n",
        "\n",
        "  diagnostico += f\"A R$ {max_renda_por_pessoa}.\\n\"\n",
        "##########\n",
        "\n",
        "  diagnostico += \"o cidadao\"\n",
        "  if renda_familiar <= max_renda_familiar or renda_por_pessoa <= max_renda_por_pessoa:\n",
        "    diagnostico += \"pode ser \"\n",
        "  else:\n",
        "    diagnostico += \"não pode ser \"\n",
        "\n",
        "  diagnostico +=  \"beneficiário do auxilio emergencial\"\n",
        "\n",
        "  return diagnostico\n",
        "    ##################\n",
        "\n",
        "renda_mensal = float(input(\"Renda mensal total: R$ \"))\n",
        "moradia = float(input(\"Gastos totais com moradia: R$ \")) #30%\n",
        "educ = float(input(\"Gastos totais com educação: R$ \")) #20%\n",
        "transporte = float(input(\"Gastos totais com moradia: \")) #15%\n",
        "\n",
        "g_moradia = (100 * moradia) / renda_mensal\n",
        "g_educ = (100 * educ) / renda_mensal\n",
        "g_trasporte = (100 * transporte) / renda_mensal\n",
        "\n",
        "\n"
      ],
      "metadata": {
        "colab": {
          "base_uri": "https://localhost:8080/",
          "height": 87
        },
        "id": "O5wVZWhk6p36",
        "outputId": "370cc4b6-a28b-41c1-a98c-3de81cbb6b56"
      },
      "execution_count": null,
      "outputs": [
        {
          "name": "stdout",
          "output_type": "stream",
          "text": [
            "Informe a renda familiar total mensal: R$ 5000\n",
            "Informe o número de menbros da família: 5\n"
          ]
        },
        {
          "output_type": "execute_result",
          "data": {
            "text/plain": [
              "'a renda familiar totao de R$ 5000.0, É superior a R$ 3135.\\na Renda mensal por pessoa é de R$ 1000.0, Superior a ä R$ 522.5.\\no cidadaonão pode ser beneficiário do auxilio emergencial'"
            ],
            "application/vnd.google.colaboratory.intrinsic+json": {
              "type": "string"
            }
          },
          "metadata": {},
          "execution_count": 3
        }
      ]
    },
    {
      "cell_type": "code",
      "source": [
        "renda_mensal = float(input(\"Renda mensal total: R$ \"))\n",
        "moradia = float(input(\"Gastos totais com moradia: R$ \")) #30%\n",
        "educ = float(input(\"Gastos totais com educação: R$ \")) #20%\n",
        "transporte = float(input(\"Gastos totais com moradia: \")) #15%\n",
        "\n",
        "g_moradia = (100 * moradia) / renda_mensal\n",
        "g_educ = (100 * educ) / renda_mensal\n",
        "g_trasporte = (100 * transporte) / renda_mensal\n",
        "\n",
        "recomendado_moradia = (renda_mensal * 30) / 100\n",
        "recomendado_educ = (renda_mensal * 20) / 100\n",
        "recomendado_transporte = (renda_mensal * 15) / 100\n",
        "\n",
        "if g_moradia <= 30:\n",
        "  print(f\"Seus gastos totais com moradia comprometem {g_moradia} de sua renda total. O máximo recomendado é de 30%.\")\n",
        "else:\n",
        "  print(f\"Seus gastos totais com moradia comprometem {g_moradia} de sua renda total. O máximo recomendado é de 30%. Portanto, idealmente, o máximo de sua renda comprometida com moradia deveria ser de R$ {recomendado_moradia}.\")\n",
        "  \n",
        "if g_educ <= 20:\n",
        "  print(f\"Seus gastos totais com educação comprometem {g_educ} de sua renda total. O máximo recomendado é de 20%.\")\n",
        "else:\n",
        "  print(f\"Seus gastos totais com educação comprometem {g_educ} de sua renda total. O máximo recomendado é de 20%. Portanto, idealmente, o máximo de sua renda comprometida com moradia deveria ser de R$ {recomendado_educ}.\")\n",
        "\n",
        "if g_trasporte <= 15:\n",
        "  print(f\"Seus gastos totais com transporte comprometem {g_trasporte} de sua renda total. O máximo recomendado é de 15%.\")\n",
        "else:\n",
        "  print(f\"Seus gastos totais com transporte comprometem {g_trasporte} de sua renda total. O máximo recomendado é de 15%. Portanto, idealmente, o máximo de sua renda comprometida com moradia deveria ser de R$ {recomendado_transporte}.\")"
      ],
      "metadata": {
        "colab": {
          "base_uri": "https://localhost:8080/"
        },
        "id": "CwZvAkE6GcBA",
        "outputId": "0737111e-819e-4ae9-d08e-15903b99940e"
      },
      "execution_count": null,
      "outputs": [
        {
          "output_type": "stream",
          "name": "stdout",
          "text": [
            "Renda mensal total: R$ 5000\n",
            "Gastos totais com moradia: R$ 1760\n",
            "Gastos totais com educação: R$ 800\n",
            "Gastos totais com moradia: 300\n",
            "Seus gastos totais com moradia comprometem 35.2 de sua renda total. O máximo recomendado é de 30%. Portanto, idealmente, o máximo de sua renda comprometida com moradia deveria ser de R$ 1500.0.\n",
            "Seus gastos totais com educação comprometem 16.0 de sua renda total. O máximo recomendado é de 20%.\n",
            "Seus gastos totais com transporte comprometem 6.0 de sua renda total. O máximo recomendado é de 15%.\n"
          ]
        }
      ]
    },
    {
      "cell_type": "code",
      "source": [
        "#Questão 4\n",
        "import matplotlib.pyplot as plt\n",
        "\n",
        "valor_inicial = float(input(\"Valor Inicial: R$ \"))\n",
        "percentual_mes = float(input(\"Rendimento por período (%): \"))\n",
        "aporte = float(input(\"Aporte a cada período: R$ \"))\n",
        "periodo = int(input(\"Total de períodos: \"))\n",
        "\n",
        "porc = percentual_mes / 100\n",
        "\n",
        "\n",
        "montante = valor_inicial\n",
        "\n",
        "#lista\n",
        "rentabilidade = []\n",
        "tempo = []\n",
        "\n",
        "#saída\n",
        "periodo_fix = 0\n",
        "while periodo_fix < periodo:\n",
        "  periodo_fix += 1\n",
        "  montante += (montante * porc)\n",
        "  montante += aporte\n",
        "  rend = round(montante,2)\n",
        "  rentabilidade.append(rend)\n",
        "  tempo.append(periodo_fix)\n",
        "  print(f\"Após {periodo_fix} período(s) o montante será de: {rend}.\")\n",
        "\n",
        "\n",
        "#teste da lista\n",
        "#for mont in rentabilidade:\n",
        "#  print(f\"{mont}\")\n",
        "\n",
        "#configução do grafico\n",
        "plt.plot(tempo , rentabilidade, '--or')\n",
        "plt.grid(True)\n",
        "\n",
        "#titulos dos rotulos\n",
        "plt.xlabel(\"Períodos\")\n",
        "plt.ylabel(\"Rentabilidade\")\n",
        "plt.title(\"RENDIMENTO DE JUROS\")\n",
        "#exibe o grafico\n",
        "plt.show()"
      ],
      "metadata": {
        "id": "KrR-qbXa65Fm",
        "colab": {
          "base_uri": "https://localhost:8080/",
          "height": 625
        },
        "outputId": "f9021a56-6944-49b9-f1f5-2bacfe1a7ee0"
      },
      "execution_count": null,
      "outputs": [
        {
          "output_type": "stream",
          "name": "stdout",
          "text": [
            "Valor Inicial: R$ 5000\n",
            "Rendimento por período (%): 60\n",
            "Aporte a cada período: R$ 60\n",
            "Total de períodos: 15\n",
            "Após 1 período(s) o montante será de: 8060.0.\n",
            "Após 2 período(s) o montante será de: 12956.0.\n",
            "Após 3 período(s) o montante será de: 20789.6.\n",
            "Após 4 período(s) o montante será de: 33323.36.\n",
            "Após 5 período(s) o montante será de: 53377.38.\n",
            "Após 6 período(s) o montante será de: 85463.8.\n",
            "Após 7 período(s) o montante será de: 136802.08.\n",
            "Após 8 período(s) o montante será de: 218943.33.\n",
            "Após 9 período(s) o montante será de: 350369.33.\n",
            "Após 10 período(s) o montante será de: 560650.93.\n",
            "Após 11 período(s) o montante será de: 897101.49.\n",
            "Após 12 período(s) o montante será de: 1435422.38.\n",
            "Após 13 período(s) o montante será de: 2296735.81.\n",
            "Após 14 período(s) o montante será de: 3674837.3.\n",
            "Após 15 período(s) o montante será de: 5879799.67.\n"
          ]
        },
        {
          "output_type": "display_data",
          "data": {
            "text/plain": [
              "<Figure size 432x288 with 1 Axes>"
            ],
            "image/png": "[encoded data removed]"
          },
          "metadata": {
            "needs_background": "light"
          }
        }
      ]
    },
    {
      "cell_type": "code",
      "source": [
        ""
      ],
      "metadata": {
        "id": "cbCHpdT1rSQc"
      },
      "execution_count": null,
      "outputs": []
    },
    {
      "cell_type": "markdown",
      "source": [
        ""
      ],
      "metadata": {
        "id": "ORQSumjMrSCt"
      }
    },
    {
      "cell_type": "code",
      "source": [
        "#QUEStÃO 5 - A\n",
        "\n",
        "def mostrar_pib(nome_arquivo, pais, ano):\n",
        "  paises = list();\n",
        "  pibs_picados = list();\n",
        "\n",
        "  arquivo = open(nome_arquivo, 'r')\n",
        "  pibs = arquivo.read();\n",
        "  pibs = pibs.split('\\n');\n",
        "  rotulos = pibs.pop(0);\n",
        "  rotulos = rotulos.split(',')\n",
        "\n",
        "  for x in pibs:\n",
        "      lista_pibs = x.split(',');\n",
        "      paises.append(lista_pibs[0]);\n",
        "      lista_pibs.pop(0);\n",
        "      pibs_picados.append(lista_pibs);\n",
        "  \n",
        "  if pais in paises:\n",
        "      indice_pais = paises.index(pais);\n",
        "  else:\n",
        "      print('País não disponível');\n",
        "\n",
        "  if ano in rotulos:\n",
        "     indice_ano = rotulos.index(ano);\n",
        "  else:\n",
        "      print('Ano não disponível');\n",
        "\n",
        "  if pais in paises and ano in rotulos:\n",
        "      print(f'PIB {pais} em {ano}: U$$ {pibs_picados[indice_pais][indice_ano-1]} trilhões');\n",
        "\n",
        "pais_consultado = input('informe um país: ');\n",
        "ano_consultado = input('Informe um ano entre 2013 e 2020: ');\n",
        "\n",
        "mostrar_pib('Assessment_PIBs - modelo 1.csv',pais_consultado,ano_consultado);"
      ],
      "metadata": {
        "id": "0ui4juGBKa3J",
        "colab": {
          "base_uri": "https://localhost:8080/"
        },
        "outputId": "07c2ea79-5a27-4220-d69c-4dc6a5dd8469"
      },
      "execution_count": null,
      "outputs": [
        {
          "output_type": "stream",
          "name": "stdout",
          "text": [
            "informe um país: eua\n",
            "Informe um ano entre 2013 e 2020: 2020\n",
            "País não disponível\n"
          ]
        }
      ]
    },
    {
      "cell_type": "code",
      "source": [
        "# QUESTÃO 5 B\n",
        "\n",
        "def extrair_dados(caminho_arquivo):\n",
        "  with open(caminho_arquivo, 'r') as arquivo:\n",
        "    conteudo = arquivo.read()\n",
        "   \n",
        "\n",
        "  conteudo = conteudo.splitlines()\n",
        "\n",
        "  rotulos = conteudo[0]\n",
        "  rotulos = rotulos.split(',')\n",
        "  conteudo = conteudo[1:]\n",
        "  \n",
        "  dados = []\n",
        "\n",
        "  for elemento in conteudo:\n",
        "    elemento = elemento.split(',')\n",
        "\n",
        "    dados.append(elemento)\n",
        "    \n",
        "  return rotulos, dados\n",
        "\n",
        "rotulos, dados = extrair_dados('Assessment_PIBs - modelo 1.csv')\n",
        "\n",
        "indice_2013 = rotulos.index('2013') #1\n",
        "indice_2014 = rotulos.index('2014')#2\n",
        "indice_2015 = rotulos.index('2015')#3\n",
        "indice_2016 = rotulos.index('2016')#4\n",
        "indice_2017 = rotulos.index('2017')#5\n",
        "indice_2018 = rotulos.index('2018')#6\n",
        "indice_2019 = rotulos.index('2019')#7\n",
        "indice_2020 = rotulos.index('2020')#8\n",
        "indice_pais = rotulos.index('País')#0\n",
        "    \n",
        "  \n",
        "\n",
        "for elemento in dados:\n",
        "  if elemento[indice_pais]:\n",
        "    pib_final = float(elemento[indice_2020])\n",
        "      #print(pib_final) \n",
        "      #print(\"\")\n",
        "  if elemento[indice_pais]:\n",
        "      pib_inicial = float(elemento[indice_2013])  \n",
        "      # print(pib_inicial) \n",
        "      # print('')\n",
        "    \n",
        "            \n",
        "  variacao = round(((pib_final / pib_inicial) - 1) * 100, 2)\n",
        "      \n",
        " # print(variacao) \n",
        " # print('')\n",
        "       \n",
        "     \n",
        "  print(f\"{elemento[0]:<20} Variação de {variacao}% entre 2013 e 2020.\")\n",
        "\n",
        " \n",
        "  \n",
        "  \n"
      ],
      "metadata": {
        "colab": {
          "base_uri": "https://localhost:8080/"
        },
        "id": "bQP6oRnUYxll",
        "outputId": "74827139-3e82-475a-92e3-126f04c72eef"
      },
      "execution_count": null,
      "outputs": [
        {
          "output_type": "stream",
          "name": "stdout",
          "text": [
            "EUA                  Variação de 34.13% entre 2013 e 2020.\n",
            "China                Variação de 70.72% entre 2013 e 2020.\n",
            "Japão                Variação de 0.2% entre 2013 e 2020.\n",
            "Alemanha             Variação de 9.92% entre 2013 e 2020.\n",
            "Reino Unido          Variação de 39.18% entre 2013 e 2020.\n",
            "França               Variação de 7.5% entre 2013 e 2020.\n",
            "Brasil               Variação de -1.67% entre 2013 e 2020.\n",
            "Itália               Variação de 1.88% entre 2013 e 2020.\n",
            "Índia                Variação de 94.65% entre 2013 e 2020.\n",
            "Rússia               Variação de 0.48% entre 2013 e 2020.\n",
            "Canadá               Variação de 11.48% entre 2013 e 2020.\n",
            "Coreia do Sul        Variação de 54.62% entre 2013 e 2020.\n",
            "Espanha              Variação de 6.47% entre 2013 e 2020.\n",
            "México               Variação de 30.95% entre 2013 e 2020.\n",
            "Indonésia            Variação de -85.76% entre 2013 e 2020.\n"
          ]
        }
      ]
    },
    {
      "cell_type": "code",
      "source": [
        " # QUESTÃO 5 C\n",
        "import matplotlib.pyplot as plt\n",
        "\n",
        "pais = input(\"Informe o pais para gerar o gráfico do PIB:  \")\n",
        "\n",
        "rotulos, dados = extrair_dados('Assessment_PIBs - modelo 1.csv')\n",
        "\n",
        "indice_pais = rotulos.index('País')\n",
        "\n",
        "for elemento in dados:\n",
        "  if elemento [indice_pais] == pais:\n",
        "    pibs = elemento[1:]\n",
        "   # print(pibs)\n",
        "   # y = (elemento[1:])\n",
        " # print(x)\n",
        "\n",
        "y = []\n",
        "\n",
        "for pib in pibs:\n",
        "  y.append(float(pib))\n",
        "\n",
        "x = rotulos[1:]\n",
        "#print(y)\n",
        "\n",
        "#configução do grafico\n",
        "plt.plot(x , y, '--or')\n",
        "plt.grid(True)\n",
        "\n",
        "\n",
        "plt.xlabel(\"Anos\")\n",
        "plt.ylabel(\"PIB em trilhões\")\n",
        "plt.title(\"EVOLUÇÃO DO PIB\")\n",
        "plt.show()"
      ],
      "metadata": {
        "colab": {
          "base_uri": "https://localhost:8080/",
          "height": 314
        },
        "id": "_E29zLAXz9HB",
        "outputId": "5ff3ce39-9c42-4a90-ae73-0fcf341b904f"
      },
      "execution_count": null,
      "outputs": [
        {
          "name": "stdout",
          "output_type": "stream",
          "text": [
            "Informe o pais para gerar o gráfico do PIB:  Brasil\n"
          ]
        },
        {
          "output_type": "display_data",
          "data": {
            "text/plain": [
              "<Figure size 432x288 with 1 Axes>"
            ],
            "image/png": "[encoded data removed]"
          },
          "metadata": {
            "needs_background": "light"
          }
        }
      ]
    },
    {
      "cell_type": "code",
      "source": [
        ""
      ],
      "metadata": {
        "id": "KCSuD8Qx2YP3"
      },
      "execution_count": null,
      "outputs": []
    }
  ]
}